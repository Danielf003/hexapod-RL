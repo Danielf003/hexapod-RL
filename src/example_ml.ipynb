{
  "cells": [
    {
      "cell_type": "markdown",
      "id": "jSnUMNLC8WMK",
      "metadata": {
        "id": "jSnUMNLC8WMK"
      },
      "source": [
        "---\n",
        "\n",
        "Швецов Д.А. ИСУ: 285659\n",
        "\n",
        "---"
      ]
    },
    {
      "cell_type": "markdown",
      "id": "7NIL8rtuYIey",
      "metadata": {
        "id": "7NIL8rtuYIey"
      },
      "source": [
        "#Лаб. 7. Proximal policy optimization"
      ]
    },
    {
      "cell_type": "markdown",
      "id": "p3T78LMsYR1E",
      "metadata": {
        "id": "p3T78LMsYR1E"
      },
      "source": [
        "##Сетап"
      ]
    },
    {
      "cell_type": "code",
      "execution_count": 1,
      "id": "7-3PzyNmeOZk",
      "metadata": {
        "colab": {
          "base_uri": "https://localhost:8080/"
        },
        "id": "7-3PzyNmeOZk",
        "outputId": "3f5f1093-56d6-4199-887a-78d7b9e448eb"
      },
      "outputs": [],
      "source": [
        "# !sudo apt-get update\n",
        "# !sudo apt-get install -y xvfb python3-opengl\n",
        "# !pip install pyvirtualdisplay\n",
        "# !pip install gym[classic_control]"
      ]
    },
    {
      "cell_type": "code",
      "execution_count": 2,
      "id": "extended-morocco",
      "metadata": {
        "id": "extended-morocco"
      },
      "outputs": [],
      "source": [
        "import matplotlib.pyplot as plt\n",
        "%matplotlib inline\n",
        "%load_ext autoreload\n",
        "%autoreload 2\n",
        "\n",
        "from IPython import display\n",
        "# from pyvirtualdisplay import Display\n",
        "# d = Display(visible=0, size=(400, 300))\n",
        "# d.start()\n",
        "\n",
        "def show_state(env, episode=0, step=0, info=\"\"):\n",
        "    plt.figure(3)\n",
        "    plt.clf()\n",
        "    plt.imshow(env.render())#mode='rgb_array'))\n",
        "    plt.title(\"%s | Eposide: %d | Step: %d %s\" % ('Cart-pole-v1', episode, step, info))\n",
        "    plt.axis('off')\n",
        "\n",
        "    display.clear_output(wait=True)\n",
        "    display.display(plt.gcf())"
      ]
    },
    {
      "cell_type": "code",
      "execution_count": 3,
      "id": "0orEW4pfmQuF",
      "metadata": {
        "id": "0orEW4pfmQuF"
      },
      "outputs": [],
      "source": [
        "# import copy\n",
        "import torch\n",
        "from torch import distributions\n",
        "# from torch.autograd import Variable\n",
        "from torch.optim.lr_scheduler import StepLR\n",
        "# import random\n",
        "# import math\n",
        "# import torchvision.transforms as T\n",
        "import numpy as np\n",
        "# import time\n",
        "# import gym, math\n",
        "import gymnasium as gym\n",
        "from scipy.signal import lfilter"
      ]
    },
    {
      "cell_type": "markdown",
      "id": "s0XIDek4YXuA",
      "metadata": {
        "id": "s0XIDek4YXuA"
      },
      "source": [
        "##Классы и функции"
      ]
    },
    {
      "cell_type": "markdown",
      "id": "LYwKEKvwbCqE",
      "metadata": {
        "id": "LYwKEKvwbCqE"
      },
      "source": [
        "Честно взято отсюда: https://github.com/openai/spinningup/blob/master/spinup/algos/pytorch/ppo/core.py"
      ]
    },
    {
      "cell_type": "code",
      "execution_count": 4,
      "id": "aASGZqGFZA1V",
      "metadata": {
        "id": "aASGZqGFZA1V"
      },
      "outputs": [],
      "source": [
        "# Чтобы не прописывать все слои сети руками\n",
        "def mlp(sizes, activation, output_activation=torch.nn.Identity):\n",
        "    layers = []\n",
        "    for j in range(len(sizes)-1):\n",
        "        act = activation if j < len(sizes)-2 else output_activation\n",
        "        layers += [torch.nn.Linear(sizes[j], sizes[j+1]), act()]\n",
        "    return torch.nn.Sequential(*layers)\n",
        "\n",
        "# Для подсчета массива ожидаемых суммарных\n",
        "# вознаграждений с дисконтированием по массиву наград\n",
        "def discount_cumsum(x, discount):\n",
        "  return lfilter(\n",
        "      b=[1],\n",
        "      a=[1, float(-discount)],\n",
        "      x=x[::-1],\n",
        "      axis=0)[::-1]\n",
        "\n",
        "# # Агент, который еще только учится\n",
        "# class MLPCategoricalActor(torch.nn.Module):\n",
        "#     def __init__(self, obs_dim, act_dim, hidden_sizes, activation):\n",
        "#         super().__init__()\n",
        "#         self.logits_net = mlp([obs_dim] + list(hidden_sizes) + [act_dim], activation)\n",
        "\n",
        "#     def get_policy(self, obs):\n",
        "#         logits = self.logits_net(obs)\n",
        "#         return distributions.Categorical(logits=logits)\n",
        "\n",
        "#     def _log_prob_from_distribution(self, pi, act):\n",
        "#         return pi.log_prob(act)\n",
        "\n",
        "#     def forward(self, obs, act=None):\n",
        "#         # Produce action distributions for given observations, and\n",
        "#         # optionally compute the log likelihood of given actions under\n",
        "#         # those distributions.\n",
        "#         pi = self.get_policy(obs)\n",
        "#         logp_a = None\n",
        "#         if act is not None:\n",
        "#             logp_a = self._log_prob_from_distribution(pi, act)\n",
        "#         return pi, logp_a\n",
        "\n",
        "# Агент, который еще только учится\n",
        "class MLPGaussianActor(torch.nn.Module):\n",
        "    def __init__(self, obs_dim, act_dim, hidden_sizes, activation):\n",
        "        super().__init__()\n",
        "        log_std = -0.5 * np.ones(act_dim, dtype=np.float32)\n",
        "        self.log_std = torch.nn.Parameter(torch.as_tensor(log_std))\n",
        "        self.mu_net = mlp([obs_dim] + list(hidden_sizes) + [act_dim], activation)\n",
        "\n",
        "    def get_policy(self, obs):\n",
        "        mu = self.mu_net(obs)\n",
        "        std = torch.exp(self.log_std)\n",
        "        return distributions.Normal(mu, std)\n",
        "\n",
        "    def _log_prob_from_distribution(self, pi, act):\n",
        "        return pi.log_prob(act).sum(axis=-1)    # Last axis sum needed for Torch Normal distribution\n",
        "    \n",
        "    def forward(self, obs, act=None):\n",
        "        # Produce action distributions for given observations, and\n",
        "        # optionally compute the log likelihood of given actions under\n",
        "        # those distributions.\n",
        "        pi = self.get_policy(obs)\n",
        "        logp_a = None\n",
        "        if act is not None:\n",
        "            logp_a = self._log_prob_from_distribution(pi, act)\n",
        "        return pi, logp_a\n",
        "\n",
        "# Начинающий оценщик V-функции\n",
        "class MLPCritic(torch.nn.Module):\n",
        "\n",
        "    def __init__(self, obs_dim, hidden_sizes, activation):\n",
        "        super().__init__()\n",
        "        self.v_net = mlp([obs_dim] + list(hidden_sizes) + [1], activation)\n",
        "\n",
        "    def forward(self, obs):\n",
        "        return torch.squeeze(self.v_net(obs), -1) # Critical to ensure v has right shape."
      ]
    },
    {
      "cell_type": "code",
      "execution_count": 5,
      "id": "a_SZ6ZjsqxJs",
      "metadata": {
        "colab": {
          "base_uri": "https://localhost:8080/"
        },
        "id": "a_SZ6ZjsqxJs",
        "outputId": "dc1c47ac-67e1-4db1-eb64-80d8db08bf01"
      },
      "outputs": [],
      "source": [
        "from gymnasium.spaces import Box, Discrete\n",
        "\n",
        "class PPOac(torch.nn.Module):\n",
        "    def __init__(self, observation_space, action_space, hidden_dim=12, pi_lr=3e-4, vf_lr=1e-3, train_pi_iters=5, train_v_iters=5, target_kl=0.01, clip_ratio=0.2):\n",
        "        super().__init__()\n",
        "\n",
        "        activation = torch.nn.Tanh\n",
        "        # activation = torch.nn.LeakyReLU()\n",
        "        hidden_sizes = [hidden_dim] * 1\n",
        "\n",
        "        if isinstance(action_space, Box):\n",
        "            self.pi = MLPGaussianActor(observation_space.shape[0], action_space.shape[0], hidden_sizes, activation)\n",
        "        elif isinstance(action_space, Discrete):\n",
        "            # self.pi = MLPCategoricalActor(state_dim, action_dim, hidden_sizes, activation)\n",
        "            raise ValueError('Are you sure you want discrete action space?')\n",
        "        else:\n",
        "            raise ValueError('What the heck is this action space?')\n",
        "\n",
        "        # build value function\n",
        "        self.v  = MLPCritic(observation_space.shape[0], hidden_sizes, activation)\n",
        "\n",
        "        self.pi_optimizer = torch.optim.Adam(self.pi.parameters(), lr=pi_lr)\n",
        "        self.vf_optimizer = torch.optim.Adam(self.v.parameters(), lr=vf_lr)\n",
        "        self.train_pi_iters = train_pi_iters\n",
        "        self.train_v_iters = train_v_iters\n",
        "        self.target_kl = target_kl\n",
        "        self.clip_ratio = clip_ratio\n",
        "\n",
        "    def get_action(self, state):\n",
        "        with torch.no_grad():\n",
        "            obs = torch.as_tensor(state, dtype=torch.float32)\n",
        "            pi = self.pi.get_policy(obs)\n",
        "            a = pi.sample()\n",
        "            logp_a = self.pi._log_prob_from_distribution(pi, a)\n",
        "            v = self.v(obs)\n",
        "        return a.numpy(), v.numpy(), logp_a.numpy()\n",
        "\n",
        "    # def act(self, obs):\n",
        "        #     return self.step(obs)[0]\n",
        "\n",
        "    # Set up function for computing PPO policy loss\n",
        "    def compute_loss_pi(self, obs, act, adv, logp_old):\n",
        "        # obs, act, adv, logp_old = data['obs'], data['act'], data['adv'], data['logp']\n",
        "\n",
        "        # Policy loss\n",
        "        pi, logp = self.pi(obs, act)\n",
        "        ratio = torch.exp(logp - logp_old)\n",
        "        clip_adv = torch.clamp(ratio, 1 - self.clip_ratio, 1 + self.clip_ratio) * adv\n",
        "        loss_pi = -(torch.min(ratio * adv, clip_adv)).mean()\n",
        "\n",
        "        # # Useful extra info\n",
        "        # approx_kl = (logp_old - logp).mean().item()\n",
        "        # ent = pi.entropy().mean().item()\n",
        "        # clipped = ratio.gt(1 + clip_ratio) | ratio.lt(1 - clip_ratio)\n",
        "        # clipfrac = torch.as_tensor(clipped, dtype=torch.float32).mean().item()\n",
        "        # pi_info = dict(kl=approx_kl, ent=ent, cf=clipfrac)\n",
        "\n",
        "        approx_kl = (logp_old - logp).mean().item()\n",
        "        pi_info = dict(kl=approx_kl)\n",
        "\n",
        "        return loss_pi, pi_info\n",
        "\n",
        "    # Set up function for computing value loss\n",
        "    def compute_loss_v(self, obs, ret):\n",
        "        # obs, ret = data['obs'], data['ret']\n",
        "        return ((self.v(obs) - ret) ** 2).mean()\n",
        "\n",
        "    def update(self, obs, batch_actions, adv, logp_old, ret):\n",
        "        # data = buf.get()\n",
        "        obs = torch.as_tensor(obs, dtype=torch.float32)\n",
        "        act = torch.as_tensor(batch_actions, dtype=torch.float32)\n",
        "        # torch.FloatTensor(\n",
        "        adv = torch.as_tensor(adv, dtype=torch.float32)\n",
        "        logp_old = torch.as_tensor(logp_old, dtype=torch.float32)\n",
        "        ret = torch.as_tensor(ret, dtype=torch.float32)\n",
        "\n",
        "\n",
        "        pi_l_old, pi_info_old = self.compute_loss_pi(obs, act, adv, logp_old)\n",
        "        pi_l_old = pi_l_old.item()\n",
        "        v_l_old = self.compute_loss_v(obs, ret).item()\n",
        "\n",
        "        # Train policy with multiple steps of gradient descent\n",
        "        for i in range(self.train_pi_iters):\n",
        "            self.pi_optimizer.zero_grad()\n",
        "            loss_pi, pi_info = self.compute_loss_pi(obs, act, adv, logp_old)\n",
        "            # kl = mpi_avg(pi_info['kl'])\n",
        "            kl = pi_info['kl']\n",
        "            if kl > 1.5 * self.target_kl:\n",
        "                # logger.log('Early stopping at step %d due to reaching max kl.' % i)\n",
        "                break\n",
        "            loss_pi.backward()\n",
        "            # mpi_avg_grads(ac.pi)  # average grads across MPI processes\n",
        "            self.pi_optimizer.step()\n",
        "\n",
        "        # logger.store(StopIter=i)\n",
        "\n",
        "        # Value function learning\n",
        "        for i in range(self.train_v_iters):\n",
        "            self.vf_optimizer.zero_grad()\n",
        "            loss_v = self.compute_loss_v(obs, ret)\n",
        "            loss_v.backward()\n",
        "            # mpi_avg_grads(ac.v)  # average grads across MPI processes\n",
        "            self.vf_optimizer.step()\n",
        "\n",
        "        # Log changes from update\n",
        "        # kl, ent, cf = pi_info['kl'], pi_info_old['ent'], pi_info['cf']\n",
        "        # logger.store(LossPi=pi_l_old, LossV=v_l_old,\n",
        "        #               KL=kl, Entropy=ent, ClipFrac=cf,\n",
        "        #               DeltaLossPi=(loss_pi.item() - pi_l_old),\n",
        "        #               DeltaLossV=(loss_v.item() - v_l_old))"
      ]
    },
    {
      "cell_type": "markdown",
      "id": "-89kQd5UYdzE",
      "metadata": {
        "id": "-89kQd5UYdzE"
      },
      "source": [
        "##Обучение\n",
        "Успешно обучилось 4 раза из 7. 3 раза из 7 либо вообще не обучилось, либо есть пара просадок на валидации\n"
      ]
    },
    {
      "cell_type": "code",
      "execution_count": 6,
      "id": "developmental-lending",
      "metadata": {
        "colab": {
          "base_uri": "https://localhost:8080/",
          "height": 489
        },
        "id": "developmental-lending",
        "outputId": "34ffcb49-e257-4173-ee64-6e9dfa0fbdc2"
      },
      "outputs": [
        {
          "name": "stderr",
          "output_type": "stream",
          "text": [
            "d:\\Soft\\miniconda3\\envs\\hex\\lib\\site-packages\\gymnasium\\utils\\passive_env_checker.py:54: UserWarning: \u001b[33mWARN: A Box action space maximum and minimum values are equal.\u001b[0m\n",
            "  logger.warn(\"A Box action space maximum and minimum values are equal.\")\n"
          ]
        },
        {
          "name": "stdout",
          "output_type": "stream",
          "text": [
            "SHApes (60,) (24,)\n"
          ]
        },
        {
          "name": "stderr",
          "output_type": "stream",
          "text": [
            "C:\\Users\\Danielf\\AppData\\Local\\Temp\\ipykernel_23280\\1308085951.py:70: UserWarning: Creating a tensor from a list of numpy.ndarrays is extremely slow. Please consider converting the list to a single numpy.ndarray with numpy.array() before converting to a tensor. (Triggered internally at C:\\actions-runner\\_work\\pytorch\\pytorch\\builder\\windows\\pytorch\\torch\\csrc\\utils\\tensor_new.cpp:281.)\n",
            "  obs = torch.as_tensor(obs, dtype=torch.float32)\n"
          ]
        },
        {
          "name": "stdout",
          "output_type": "stream",
          "text": [
            "done\n"
          ]
        }
      ],
      "source": [
        "\n",
        "device = \"cpu\"\n",
        "# device = torch.device(\"cuda:0\" if torch.cuda.is_available() else \"cpu\")\n",
        "\n",
        "from gymnasium.envs.registration import register\n",
        "register(\n",
        "    id=\"Hexapod-v0\",\n",
        "    entry_point=\"gym_env:HexapodEnv\",\n",
        "    max_episode_steps=1000,\n",
        "    reward_threshold=3800.0,\n",
        ")\n",
        "env = gym.make('Hexapod-v0', render_mode='rgb_array')\n",
        "# env = gym.make('CartPole-v1', render_mode='rgb_array')\n",
        "# env = gym.make('CartPole-v1')\n",
        "print('SHApes',env.observation_space.shape, env.action_space.shape)\n",
        "\n",
        "\n",
        "#PPO\n",
        "\n",
        "# Learning Parameters\n",
        "alpha_pi = 0.01\n",
        "alpha_v = 0.01\n",
        "gsteps_pi = 20\n",
        "gsteps_v = 20\n",
        "gamma=0.99\n",
        "lam = 0.95 # ЭТО lambda ДЛЯ ADVANTAGE\n",
        "\n",
        "# Execution parameters\n",
        "SHOW_ANIMATION = False\n",
        "EPISODES_MAX = 4\n",
        "STEPS_MAX = 1000\n",
        "DESIRED_STEPS = 250\n",
        "\n",
        "# Loggers\n",
        "log_steps_number = np.zeros(EPISODES_MAX)\n",
        "\n",
        "# n_states = 4\n",
        "# n_actions = 2\n",
        "n_hidden = 10\n",
        "\n",
        "agent = PPOac(env.observation_space, env.action_space, n_hidden, alpha_pi, alpha_v, gsteps_pi, gsteps_v)\n",
        "scheduler_pi = StepLR(agent.pi_optimizer, step_size=10, gamma=0.7)\n",
        "scheduler_v = StepLR(agent.vf_optimizer, step_size=10, gamma=0.7)\n",
        "\n",
        "#data storage\n",
        "batch_size = 400\n",
        "\n",
        "batch_states = []\n",
        "batch_actions = []\n",
        "batch_ret = []\n",
        "batch_adv = []\n",
        "batch_logps = []\n",
        "\n",
        "epoch = 0\n",
        "\n",
        "# PPO\n",
        "for i_episode in range(EPISODES_MAX):\n",
        "    episode_states = []\n",
        "    episode_actions = []\n",
        "    episode_rewards = []\n",
        "    # episode_total_return = 0\n",
        "    episode_logps = []\n",
        "    episode_vals = []\n",
        "    episode_ret = []\n",
        "\n",
        "    observation = env.reset()[0]\n",
        "    state = observation\n",
        "\n",
        "    # show results\n",
        "    if (i_episode + 1) % 10 == 0:\n",
        "        plt.figure(1)\n",
        "        plt.clf()\n",
        "        plt.plot([0,i_episode], [495, 495], label=\"threshold\")\n",
        "        plt.plot(range(0,i_episode), log_steps_number[0:i_episode], label=\"solution 1\")\n",
        "        plt.xlabel('episode')\n",
        "        plt.ylabel('episode steps')\n",
        "        plt.legend()\n",
        "        plt.title('alpha_pi={} alpha_v={} epoch={}'.format(scheduler_pi.get_last_lr()[0],scheduler_v.get_last_lr()[0],epoch))\n",
        "        display.clear_output(wait=True)\n",
        "        plt.show()\n",
        "\n",
        "    for t in range(STEPS_MAX):\n",
        "        # if SHOW_ANIMATION or (i_episode > 0.9*EPISODES_MAX and t > 0.95*DESIRED_STEPS):\n",
        "        #     print(i_episode, 0.9*EPISODES_MAX, 0.95*DESIRED_STEPS)\n",
        "        #     # show_state(env.env, i_episode, t)\n",
        "        #     # env.render()\n",
        "        if (i_episode+1)%50 == 0 and i_episode > 0.5*EPISODES_MAX and t > DESIRED_STEPS and i_episode+1 != EPISODES_MAX:\n",
        "            # print(i_episode, 0.9*EPISODES_MAX, 0.95*DESIRED_STEPS)\n",
        "            show_state(env.env, i_episode, t)\n",
        "            # env.render()\n",
        "\n",
        "\n",
        "        action, v, logp = agent.get_action(state)\n",
        "        # print(action,v,logp)\n",
        "        action = action.tolist()\n",
        "        logp = logp.tolist()\n",
        "\n",
        "        observation, reward, terminated, truncated, info = env.step(action)\n",
        "        done = terminated or truncated\n",
        "\n",
        "        # episode_total_return += reward\n",
        "        episode_states.append(state)\n",
        "        episode_actions.append(action)\n",
        "        episode_rewards.append(reward)\n",
        "        episode_logps.append(logp)\n",
        "        episode_vals.append(v)\n",
        "\n",
        "        state = observation\n",
        "\n",
        "        if done:\n",
        "            log_steps_number[i_episode] = t;\n",
        "\n",
        "            last_val = 0\n",
        "            episode_ended = t == STEPS_MAX - 1\n",
        "            if episode_ended:\n",
        "              _, last_val, _ = agent.get_action(state)\n",
        "            rews = np.append(episode_rewards, last_val)\n",
        "            vals = np.append(episode_vals, last_val)\n",
        "            # the next two lines implement GAE-Lambda advantage calculation\n",
        "            deltas = rews[:-1] + gamma * vals[1:] - vals[:-1]\n",
        "            episode_adv = discount_cumsum(deltas, gamma * lam).tolist()\n",
        "            # the next line computes rewards-to-go, to be targets for the value function\n",
        "            episode_ret = discount_cumsum(rews, gamma)[:-1].tolist()\n",
        "\n",
        "            batch_states += episode_states\n",
        "            batch_actions += episode_actions\n",
        "            batch_logps += episode_logps\n",
        "            batch_adv += episode_adv\n",
        "            batch_ret += episode_ret\n",
        "\n",
        "\n",
        "            if len(batch_states) >= batch_size:\n",
        "              agent.update(batch_states, batch_actions, batch_adv, batch_logps, batch_ret)\n",
        "\n",
        "              epoch += 1\n",
        "              batch_states = []\n",
        "              batch_actions = []\n",
        "              batch_logps = []\n",
        "              batch_adv = []\n",
        "              batch_ret = []\n",
        "\n",
        "              scheduler_pi.step()\n",
        "              scheduler_v.step()\n",
        "\n",
        "            break\n",
        "\n",
        "print(\"done\")\n",
        "path_weights = 'hex.weights'\n",
        "torch.save(agent.state_dict(), path_weights)\n"
      ]
    },
    {
      "cell_type": "markdown",
      "id": "Fh5hIuNbYnQ3",
      "metadata": {
        "id": "Fh5hIuNbYnQ3"
      },
      "source": [
        "##Проверка"
      ]
    },
    {
      "cell_type": "code",
      "execution_count": 7,
      "id": "J-d0kCYc5dsm",
      "metadata": {
        "colab": {
          "base_uri": "https://localhost:8080/",
          "height": 466
        },
        "id": "J-d0kCYc5dsm",
        "outputId": "a52e1048-851a-4353-f79b-ce38b15d7b1d"
      },
      "outputs": [
        {
          "data": {
            "image/png": "[encoded data removed]",
            "text/plain": [
              "<Figure size 640x480 with 1 Axes>"
            ]
          },
          "metadata": {},
          "output_type": "display_data"
        },
        {
          "ename": "KeyboardInterrupt",
          "evalue": "",
          "output_type": "error",
          "traceback": [
            "\u001b[1;31m---------------------------------------------------------------------------\u001b[0m",
            "\u001b[1;31mKeyboardInterrupt\u001b[0m                         Traceback (most recent call last)",
            "Cell \u001b[1;32mIn[7], line 32\u001b[0m\n\u001b[0;32m     30\u001b[0m \u001b[38;5;28;01mfor\u001b[39;00m t \u001b[38;5;129;01min\u001b[39;00m \u001b[38;5;28mrange\u001b[39m(STEPS_MAX):\n\u001b[0;32m     31\u001b[0m     action, _, _ \u001b[38;5;241m=\u001b[39m agent\u001b[38;5;241m.\u001b[39mget_action(state)\n\u001b[1;32m---> 32\u001b[0m     observation, reward, terminated, truncated, info \u001b[38;5;241m=\u001b[39m \u001b[43menv\u001b[49m\u001b[38;5;241;43m.\u001b[39;49m\u001b[43mstep\u001b[49m\u001b[43m(\u001b[49m\u001b[43maction\u001b[49m\u001b[43m)\u001b[49m\n\u001b[0;32m     33\u001b[0m     done \u001b[38;5;241m=\u001b[39m terminated \u001b[38;5;129;01mor\u001b[39;00m truncated\n\u001b[0;32m     34\u001b[0m     state \u001b[38;5;241m=\u001b[39m observation\n",
            "File \u001b[1;32md:\\Soft\\miniconda3\\envs\\hex\\lib\\site-packages\\gymnasium\\wrappers\\common.py:125\u001b[0m, in \u001b[0;36mTimeLimit.step\u001b[1;34m(self, action)\u001b[0m\n\u001b[0;32m    112\u001b[0m \u001b[38;5;28;01mdef\u001b[39;00m\u001b[38;5;250m \u001b[39m\u001b[38;5;21mstep\u001b[39m(\n\u001b[0;32m    113\u001b[0m     \u001b[38;5;28mself\u001b[39m, action: ActType\n\u001b[0;32m    114\u001b[0m ) \u001b[38;5;241m-\u001b[39m\u001b[38;5;241m>\u001b[39m \u001b[38;5;28mtuple\u001b[39m[ObsType, SupportsFloat, \u001b[38;5;28mbool\u001b[39m, \u001b[38;5;28mbool\u001b[39m, \u001b[38;5;28mdict\u001b[39m[\u001b[38;5;28mstr\u001b[39m, Any]]:\n\u001b[0;32m    115\u001b[0m \u001b[38;5;250m    \u001b[39m\u001b[38;5;124;03m\"\"\"Steps through the environment and if the number of steps elapsed exceeds ``max_episode_steps`` then truncate.\u001b[39;00m\n\u001b[0;32m    116\u001b[0m \n\u001b[0;32m    117\u001b[0m \u001b[38;5;124;03m    Args:\u001b[39;00m\n\u001b[1;32m   (...)\u001b[0m\n\u001b[0;32m    123\u001b[0m \n\u001b[0;32m    124\u001b[0m \u001b[38;5;124;03m    \"\"\"\u001b[39;00m\n\u001b[1;32m--> 125\u001b[0m     observation, reward, terminated, truncated, info \u001b[38;5;241m=\u001b[39m \u001b[38;5;28;43mself\u001b[39;49m\u001b[38;5;241;43m.\u001b[39;49m\u001b[43menv\u001b[49m\u001b[38;5;241;43m.\u001b[39;49m\u001b[43mstep\u001b[49m\u001b[43m(\u001b[49m\u001b[43maction\u001b[49m\u001b[43m)\u001b[49m\n\u001b[0;32m    126\u001b[0m     \u001b[38;5;28mself\u001b[39m\u001b[38;5;241m.\u001b[39m_elapsed_steps \u001b[38;5;241m+\u001b[39m\u001b[38;5;241m=\u001b[39m \u001b[38;5;241m1\u001b[39m\n\u001b[0;32m    128\u001b[0m     \u001b[38;5;28;01mif\u001b[39;00m \u001b[38;5;28mself\u001b[39m\u001b[38;5;241m.\u001b[39m_elapsed_steps \u001b[38;5;241m>\u001b[39m\u001b[38;5;241m=\u001b[39m \u001b[38;5;28mself\u001b[39m\u001b[38;5;241m.\u001b[39m_max_episode_steps:\n",
            "File \u001b[1;32md:\\Soft\\miniconda3\\envs\\hex\\lib\\site-packages\\gymnasium\\wrappers\\common.py:393\u001b[0m, in \u001b[0;36mOrderEnforcing.step\u001b[1;34m(self, action)\u001b[0m\n\u001b[0;32m    391\u001b[0m \u001b[38;5;28;01mif\u001b[39;00m \u001b[38;5;129;01mnot\u001b[39;00m \u001b[38;5;28mself\u001b[39m\u001b[38;5;241m.\u001b[39m_has_reset:\n\u001b[0;32m    392\u001b[0m     \u001b[38;5;28;01mraise\u001b[39;00m ResetNeeded(\u001b[38;5;124m\"\u001b[39m\u001b[38;5;124mCannot call env.step() before calling env.reset()\u001b[39m\u001b[38;5;124m\"\u001b[39m)\n\u001b[1;32m--> 393\u001b[0m \u001b[38;5;28;01mreturn\u001b[39;00m \u001b[38;5;28;43msuper\u001b[39;49m\u001b[43m(\u001b[49m\u001b[43m)\u001b[49m\u001b[38;5;241;43m.\u001b[39;49m\u001b[43mstep\u001b[49m\u001b[43m(\u001b[49m\u001b[43maction\u001b[49m\u001b[43m)\u001b[49m\n",
            "File \u001b[1;32md:\\Soft\\miniconda3\\envs\\hex\\lib\\site-packages\\gymnasium\\core.py:322\u001b[0m, in \u001b[0;36mWrapper.step\u001b[1;34m(self, action)\u001b[0m\n\u001b[0;32m    318\u001b[0m \u001b[38;5;28;01mdef\u001b[39;00m\u001b[38;5;250m \u001b[39m\u001b[38;5;21mstep\u001b[39m(\n\u001b[0;32m    319\u001b[0m     \u001b[38;5;28mself\u001b[39m, action: WrapperActType\n\u001b[0;32m    320\u001b[0m ) \u001b[38;5;241m-\u001b[39m\u001b[38;5;241m>\u001b[39m \u001b[38;5;28mtuple\u001b[39m[WrapperObsType, SupportsFloat, \u001b[38;5;28mbool\u001b[39m, \u001b[38;5;28mbool\u001b[39m, \u001b[38;5;28mdict\u001b[39m[\u001b[38;5;28mstr\u001b[39m, Any]]:\n\u001b[0;32m    321\u001b[0m \u001b[38;5;250m    \u001b[39m\u001b[38;5;124;03m\"\"\"Uses the :meth:`step` of the :attr:`env` that can be overwritten to change the returned data.\"\"\"\u001b[39;00m\n\u001b[1;32m--> 322\u001b[0m     \u001b[38;5;28;01mreturn\u001b[39;00m \u001b[38;5;28;43mself\u001b[39;49m\u001b[38;5;241;43m.\u001b[39;49m\u001b[43menv\u001b[49m\u001b[38;5;241;43m.\u001b[39;49m\u001b[43mstep\u001b[49m\u001b[43m(\u001b[49m\u001b[43maction\u001b[49m\u001b[43m)\u001b[49m\n",
            "File \u001b[1;32md:\\Soft\\miniconda3\\envs\\hex\\lib\\site-packages\\gymnasium\\wrappers\\common.py:285\u001b[0m, in \u001b[0;36mPassiveEnvChecker.step\u001b[1;34m(self, action)\u001b[0m\n\u001b[0;32m    283\u001b[0m     \u001b[38;5;28;01mreturn\u001b[39;00m env_step_passive_checker(\u001b[38;5;28mself\u001b[39m\u001b[38;5;241m.\u001b[39menv, action)\n\u001b[0;32m    284\u001b[0m \u001b[38;5;28;01melse\u001b[39;00m:\n\u001b[1;32m--> 285\u001b[0m     \u001b[38;5;28;01mreturn\u001b[39;00m \u001b[38;5;28;43mself\u001b[39;49m\u001b[38;5;241;43m.\u001b[39;49m\u001b[43menv\u001b[49m\u001b[38;5;241;43m.\u001b[39;49m\u001b[43mstep\u001b[49m\u001b[43m(\u001b[49m\u001b[43maction\u001b[49m\u001b[43m)\u001b[49m\n",
            "File \u001b[1;32md:\\Soft\\hexapod-RL\\gym_template.py:329\u001b[0m, in \u001b[0;36mHopperEnv8.step\u001b[1;34m(self, action)\u001b[0m\n\u001b[0;32m    327\u001b[0m x_position_before \u001b[38;5;241m=\u001b[39m \u001b[38;5;28mself\u001b[39m\u001b[38;5;241m.\u001b[39mdata\u001b[38;5;241m.\u001b[39mqpos[\u001b[38;5;241m0\u001b[39m]\n\u001b[0;32m    328\u001b[0m \u001b[38;5;66;03m# ctrl = self.action2control(action)\u001b[39;00m\n\u001b[1;32m--> 329\u001b[0m \u001b[38;5;28;43mself\u001b[39;49m\u001b[38;5;241;43m.\u001b[39;49m\u001b[43mdo_simulation\u001b[49m\u001b[43m(\u001b[49m\u001b[43maction\u001b[49m\u001b[43m,\u001b[49m\u001b[43m \u001b[49m\u001b[38;5;28;43mself\u001b[39;49m\u001b[38;5;241;43m.\u001b[39;49m\u001b[43mframe_skip\u001b[49m\u001b[43m)\u001b[49m\n\u001b[0;32m    330\u001b[0m x_position_after \u001b[38;5;241m=\u001b[39m \u001b[38;5;28mself\u001b[39m\u001b[38;5;241m.\u001b[39mdata\u001b[38;5;241m.\u001b[39mqpos[\u001b[38;5;241m0\u001b[39m]\n\u001b[0;32m    331\u001b[0m x_velocity \u001b[38;5;241m=\u001b[39m (x_position_after \u001b[38;5;241m-\u001b[39m x_position_before) \u001b[38;5;241m/\u001b[39m \u001b[38;5;28mself\u001b[39m\u001b[38;5;241m.\u001b[39mdt\n",
            "File \u001b[1;32md:\\Soft\\miniconda3\\envs\\hex\\lib\\site-packages\\gymnasium\\envs\\mujoco\\mujoco_env.py:205\u001b[0m, in \u001b[0;36mMujocoEnv.do_simulation\u001b[1;34m(self, ctrl, n_frames)\u001b[0m\n\u001b[0;32m    201\u001b[0m \u001b[38;5;28;01mif\u001b[39;00m np\u001b[38;5;241m.\u001b[39marray(ctrl)\u001b[38;5;241m.\u001b[39mshape \u001b[38;5;241m!=\u001b[39m (\u001b[38;5;28mself\u001b[39m\u001b[38;5;241m.\u001b[39mmodel\u001b[38;5;241m.\u001b[39mnu,):\n\u001b[0;32m    202\u001b[0m     \u001b[38;5;28;01mraise\u001b[39;00m \u001b[38;5;167;01mValueError\u001b[39;00m(\n\u001b[0;32m    203\u001b[0m         \u001b[38;5;124mf\u001b[39m\u001b[38;5;124m\"\u001b[39m\u001b[38;5;124mAction dimension mismatch. Expected \u001b[39m\u001b[38;5;132;01m{\u001b[39;00m(\u001b[38;5;28mself\u001b[39m\u001b[38;5;241m.\u001b[39mmodel\u001b[38;5;241m.\u001b[39mnu,)\u001b[38;5;132;01m}\u001b[39;00m\u001b[38;5;124m, found \u001b[39m\u001b[38;5;132;01m{\u001b[39;00mnp\u001b[38;5;241m.\u001b[39marray(ctrl)\u001b[38;5;241m.\u001b[39mshape\u001b[38;5;132;01m}\u001b[39;00m\u001b[38;5;124m\"\u001b[39m\n\u001b[0;32m    204\u001b[0m     )\n\u001b[1;32m--> 205\u001b[0m \u001b[38;5;28;43mself\u001b[39;49m\u001b[38;5;241;43m.\u001b[39;49m\u001b[43m_step_mujoco_simulation\u001b[49m\u001b[43m(\u001b[49m\u001b[43mctrl\u001b[49m\u001b[43m,\u001b[49m\u001b[43m \u001b[49m\u001b[43mn_frames\u001b[49m\u001b[43m)\u001b[49m\n",
            "File \u001b[1;32md:\\Soft\\miniconda3\\envs\\hex\\lib\\site-packages\\gymnasium\\envs\\mujoco\\mujoco_env.py:153\u001b[0m, in \u001b[0;36mMujocoEnv._step_mujoco_simulation\u001b[1;34m(self, ctrl, n_frames)\u001b[0m\n\u001b[0;32m    148\u001b[0m \u001b[38;5;250m\u001b[39m\u001b[38;5;124;03m\"\"\"\u001b[39;00m\n\u001b[0;32m    149\u001b[0m \u001b[38;5;124;03mStep over the MuJoCo simulation.\u001b[39;00m\n\u001b[0;32m    150\u001b[0m \u001b[38;5;124;03m\"\"\"\u001b[39;00m\n\u001b[0;32m    151\u001b[0m \u001b[38;5;28mself\u001b[39m\u001b[38;5;241m.\u001b[39mdata\u001b[38;5;241m.\u001b[39mctrl[:] \u001b[38;5;241m=\u001b[39m ctrl\n\u001b[1;32m--> 153\u001b[0m \u001b[43mmujoco\u001b[49m\u001b[38;5;241;43m.\u001b[39;49m\u001b[43mmj_step\u001b[49m\u001b[43m(\u001b[49m\u001b[38;5;28;43mself\u001b[39;49m\u001b[38;5;241;43m.\u001b[39;49m\u001b[43mmodel\u001b[49m\u001b[43m,\u001b[49m\u001b[43m \u001b[49m\u001b[38;5;28;43mself\u001b[39;49m\u001b[38;5;241;43m.\u001b[39;49m\u001b[43mdata\u001b[49m\u001b[43m,\u001b[49m\u001b[43m \u001b[49m\u001b[43mnstep\u001b[49m\u001b[38;5;241;43m=\u001b[39;49m\u001b[43mn_frames\u001b[49m\u001b[43m)\u001b[49m\n\u001b[0;32m    155\u001b[0m \u001b[38;5;66;03m# As of MuJoCo 2.0, force-related quantities like cacc are not computed\u001b[39;00m\n\u001b[0;32m    156\u001b[0m \u001b[38;5;66;03m# unless there's a force sensor in the model.\u001b[39;00m\n\u001b[0;32m    157\u001b[0m \u001b[38;5;66;03m# See https://github.com/openai/gym/issues/1541\u001b[39;00m\n\u001b[0;32m    158\u001b[0m mujoco\u001b[38;5;241m.\u001b[39mmj_rnePostConstraint(\u001b[38;5;28mself\u001b[39m\u001b[38;5;241m.\u001b[39mmodel, \u001b[38;5;28mself\u001b[39m\u001b[38;5;241m.\u001b[39mdata)\n",
            "\u001b[1;31mKeyboardInterrupt\u001b[0m: "
          ]
        }
      ],
      "source": [
        "# env = gym.make('CartPole-v1')\n",
        "# env = gym.make('CartPole-v1', render_mode='rgb_array')\n",
        "env = gym.make('Hexapod-v0', render_mode='rgb_array')\n",
        "\n",
        "# Execution parameters\n",
        "SHOW_ANIMATION = False\n",
        "EPISODES_MAX = 300\n",
        "STEPS_MAX = 1000\n",
        "\n",
        "# Loggers\n",
        "log_steps_number = np.zeros(EPISODES_MAX)\n",
        "\n",
        "# PQ\n",
        "for i_episode in range(EPISODES_MAX):\n",
        "    observation = env.reset()[0]\n",
        "    state = observation\n",
        "\n",
        "    # show results\n",
        "    if (i_episode + 1) % 20 == 0:\n",
        "        plt.figure(1)\n",
        "        plt.clf()\n",
        "        plt.plot([0,i_episode], [495, 495], label=\"threshold\")\n",
        "        plt.plot(range(0,i_episode), log_steps_number[0:i_episode], label=\"solution 1\")\n",
        "        plt.xlabel('episode')\n",
        "        plt.ylabel('episode steps')\n",
        "        plt.legend()\n",
        "        display.clear_output(wait=True)\n",
        "        plt.show()\n",
        "\n",
        "    for t in range(STEPS_MAX):\n",
        "        action, _, _ = agent.get_action(state)\n",
        "        observation, reward, terminated, truncated, info = env.step(action)\n",
        "        done = terminated or truncated\n",
        "        state = observation\n",
        "\n",
        "        if done:\n",
        "            log_steps_number[i_episode] = t;\n",
        "            break\n",
        "\n",
        "print(\"done\")"
      ]
    },
    {
      "cell_type": "markdown",
      "id": "6e19a903",
      "metadata": {},
      "source": [
        "Загрузка весов обученной модели"
      ]
    },
    {
      "cell_type": "code",
      "execution_count": 8,
      "id": "bca0018e",
      "metadata": {},
      "outputs": [
        {
          "name": "stderr",
          "output_type": "stream",
          "text": [
            "C:\\Users\\Danielf\\AppData\\Local\\Temp\\ipykernel_23280\\1149551841.py:3: FutureWarning: You are using `torch.load` with `weights_only=False` (the current default value), which uses the default pickle module implicitly. It is possible to construct malicious pickle data which will execute arbitrary code during unpickling (See https://github.com/pytorch/pytorch/blob/main/SECURITY.md#untrusted-models for more details). In a future release, the default value for `weights_only` will be flipped to `True`. This limits the functions that could be executed during unpickling. Arbitrary objects will no longer be allowed to be loaded via this mode unless they are explicitly allowlisted by the user via `torch.serialization.add_safe_globals`. We recommend you start setting `weights_only=True` for any use case where you don't have full control of the loaded file. Please open an issue on GitHub for any issues related to this experimental feature.\n",
            "  new_agent.load_state_dict(torch.load(path_weights))\n"
          ]
        },
        {
          "data": {
            "text/plain": [
              "PPOac(\n",
              "  (pi): MLPGaussianActor(\n",
              "    (mu_net): Sequential(\n",
              "      (0): Linear(in_features=60, out_features=10, bias=True)\n",
              "      (1): Tanh()\n",
              "      (2): Linear(in_features=10, out_features=24, bias=True)\n",
              "      (3): Identity()\n",
              "    )\n",
              "  )\n",
              "  (v): MLPCritic(\n",
              "    (v_net): Sequential(\n",
              "      (0): Linear(in_features=60, out_features=10, bias=True)\n",
              "      (1): Tanh()\n",
              "      (2): Linear(in_features=10, out_features=1, bias=True)\n",
              "      (3): Identity()\n",
              "    )\n",
              "  )\n",
              ")"
            ]
          },
          "execution_count": 8,
          "metadata": {},
          "output_type": "execute_result"
        }
      ],
      "source": [
        "#Later to restore:\n",
        "new_agent = PPOac(env.observation_space, env.action_space, n_hidden)\n",
        "new_agent.load_state_dict(torch.load(path_weights))\n",
        "new_agent.eval()"
      ]
    },
    {
      "cell_type": "code",
      "execution_count": 9,
      "id": "dd8d163b",
      "metadata": {},
      "outputs": [
        {
          "data": {
            "image/png": "[encoded data removed]",
            "text/plain": [
              "<Figure size 640x480 with 1 Axes>"
            ]
          },
          "metadata": {},
          "output_type": "display_data"
        },
        {
          "name": "stdout",
          "output_type": "stream",
          "text": [
            "done\n"
          ]
        }
      ],
      "source": [
        "env = gym.make('Hexapod-v0', render_mode='rgb_array')\n",
        "\n",
        "# Execution parameters\n",
        "SHOW_ANIMATION = False\n",
        "EPISODES_MAX = 40\n",
        "STEPS_MAX = 1000\n",
        "\n",
        "# Loggers\n",
        "log_steps_number = np.zeros(EPISODES_MAX)\n",
        "\n",
        "# PQ\n",
        "for i_episode in range(EPISODES_MAX):\n",
        "    observation = env.reset()[0]\n",
        "    state = observation\n",
        "\n",
        "    # show results\n",
        "    if (i_episode + 1) % 20 == 0:\n",
        "        plt.figure(1)\n",
        "        plt.clf()\n",
        "        plt.plot([0,i_episode], [495, 495], label=\"threshold\")\n",
        "        plt.plot(range(0,i_episode), log_steps_number[0:i_episode], label=\"solution 1\")\n",
        "        plt.xlabel('episode')\n",
        "        plt.ylabel('episode steps')\n",
        "        plt.legend()\n",
        "        display.clear_output(wait=True)\n",
        "        plt.show()\n",
        "\n",
        "    for t in range(STEPS_MAX):\n",
        "        action, _, _ = new_agent.get_action(state)\n",
        "        observation, reward, terminated, truncated, info = env.step(action)\n",
        "        done = terminated or truncated\n",
        "        state = observation\n",
        "\n",
        "        if done:\n",
        "            log_steps_number[i_episode] = t;\n",
        "            break\n",
        "\n",
        "print(\"done\")"
      ]
    }
  ],
  "metadata": {
    "colab": {
      "collapsed_sections": [
        "p3T78LMsYR1E"
      ],
      "provenance": []
    },
    "kernelspec": {
      "display_name": "hex",
      "language": "python",
      "name": "python3"
    },
    "language_info": {
      "codemirror_mode": {
        "name": "ipython",
        "version": 3
      },
      "file_extension": ".py",
      "mimetype": "text/x-python",
      "name": "python",
      "nbconvert_exporter": "python",
      "pygments_lexer": "ipython3",
      "version": "3.10.0"
    }
  },
  "nbformat": 4,
  "nbformat_minor": 5
}
